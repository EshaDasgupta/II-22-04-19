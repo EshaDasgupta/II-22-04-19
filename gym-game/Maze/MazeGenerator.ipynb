{
 "cells": [
  {
   "cell_type": "code",
   "execution_count": 6,
   "metadata": {},
   "outputs": [],
   "source": [
    "import random\n",
    "import nbimporter\n",
    "import string\n",
    "import numpy as np\n",
    "import sys\n",
    "if('..' not in sys.path):\n",
    "    sys.path.insert(0,'..')\n",
    "from Maze.Maze import Maze\n",
    "\n",
    "    \n",
    "def MazeGenerator(w,h):\n",
    "    width=w\n",
    "    height=h\n",
    "    name=\"\".join(random.choice(string.ascii_uppercase + string.digits) for _ in range(10))\n",
    "    mazeString=list(\"1\"*width*height)\n",
    "    EntranceX=random.randint(1,width-1)\n",
    "    ExitX=random.randint(1,width-1)\n",
    "    #print(EntranceY, ExitY)\n",
    "    mazeString[EntranceX]='2'\n",
    "    mazeString[width*(height-1)+ExitX]='3'\n",
    "    maze=name+\",\"+str(width)+\",\"+str(height)+\",\"+str(EntranceX)+\",0,\"+str(ExitX)+\",\"+str(height-1)+\",\"+\"\".join(mazeString)\n",
    "       \n",
    "    m=Maze(maze)\n",
    "    #m.printMaze()\n",
    "    #print(\" \")\n",
    "    routes=m.GetOptimalRoute()\n",
    "    notPossible=True\n",
    "    while notPossible:\n",
    "        choices=set()\n",
    "        for index in range(0,width*height):\n",
    "            if (mazeString[index]=='1'):\n",
    "                choices.add(index)\n",
    "        choice1=random.sample(choices,1)\n",
    "        choice2=random.sample(choices,1)\n",
    "        choice3=random.sample(choices,1)\n",
    "        choice4=random.sample(choices,1)\n",
    "        mazeString[choice1[0]]='0'\n",
    "        mazeString[choice2[0]]='0'\n",
    "        mazeString[choice3[0]]='0'\n",
    "        mazeString[choice4[0]]='0'\n",
    "        maze=name+\",\"+str(width)+\",\"+str(height)+\",\"+str(EntranceX)+\",0,\"+str(ExitX)+\",\"+str(height-1)+\",\"+\"\".join(mazeString)\n",
    "     \n",
    "        m=Maze(maze)\n",
    "        routes=m.GetOptimalRoute()\n",
    "        if(len(routes[0])!=0):\n",
    "            #print(\"\\n Route!\")\n",
    "            notPossible=False\n",
    "        else:\n",
    "            print(\"No\")\n",
    "    #m.printMaze()\n",
    "    #routes=m.GetOptimalRoute()\n",
    "    #print(\" \")\n",
    "    #m.printRoute(routes[0])\n",
    "    #print(maze)\n",
    "    return maze"
   ]
  },
  {
   "cell_type": "code",
   "execution_count": 7,
   "metadata": {},
   "outputs": [
    {
     "name": "stdout",
     "output_type": "stream",
     "text": [
      "Name: GEZGKIQGTH\n",
      "5x5\n",
      "Start: (1, 0)\n",
      "End: (1, 4) \n",
      "13111 4\n",
      "11111 3\n",
      "11111 2\n",
      "11111 1\n",
      "12111 0\n",
      "Name: GEZGKIQGTH\n",
      "5x5\n",
      "Start: (1, 0)\n",
      "End: (1, 4) \n",
      "13000 4\n",
      "00010 3\n",
      "01110 2\n",
      "01000 1\n",
      "02111 0\n",
      "GEZGKIQGTH,5,5,1,0,1,4,0211101000011100001013000\n"
     ]
    }
   ],
   "source": [
    "m=MazeGenerator(5,5)"
   ]
  },
  {
   "cell_type": "code",
   "execution_count": null,
   "metadata": {},
   "outputs": [],
   "source": []
  },
  {
   "cell_type": "code",
   "execution_count": null,
   "metadata": {},
   "outputs": [],
   "source": []
  }
 ],
 "metadata": {
  "kernelspec": {
   "display_name": "Python 3",
   "language": "python",
   "name": "python3"
  },
  "language_info": {
   "codemirror_mode": {
    "name": "ipython",
    "version": 3
   },
   "file_extension": ".py",
   "mimetype": "text/x-python",
   "name": "python",
   "nbconvert_exporter": "python",
   "pygments_lexer": "ipython3",
   "version": "3.6.6"
  }
 },
 "nbformat": 4,
 "nbformat_minor": 2
}
